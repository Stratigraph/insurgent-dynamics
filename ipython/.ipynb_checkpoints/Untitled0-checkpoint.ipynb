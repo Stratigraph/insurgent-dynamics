{
 "metadata": {
  "name": "",
  "signature": "sha256:c8ca7aa0f92bc2aea9228f4985767cf524bac8e0833565514c960c1d328eaec2"
 },
 "nbformat": 3,
 "nbformat_minor": 0,
 "worksheets": []
}